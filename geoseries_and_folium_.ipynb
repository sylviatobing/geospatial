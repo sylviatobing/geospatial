{
  "nbformat": 4,
  "nbformat_minor": 0,
  "metadata": {
    "colab": {
      "provenance": [],
      "authorship_tag": "ABX9TyMJKGLwk3mnt7WOVIDLMZ7L",
      "include_colab_link": true
    },
    "kernelspec": {
      "name": "python3",
      "display_name": "Python 3"
    },
    "language_info": {
      "name": "python"
    }
  },
  "cells": [
    {
      "cell_type": "markdown",
      "metadata": {
        "id": "view-in-github",
        "colab_type": "text"
      },
      "source": [
        "<a href=\"https://colab.research.google.com/github/sylviatobing/geospatial/blob/main/geoseries_and_folium_.ipynb\" target=\"_parent\"><img src=\"https://colab.research.google.com/assets/colab-badge.svg\" alt=\"Open In Colab\"/></a>"
      ]
    },
    {
      "cell_type": "code",
      "execution_count": 1,
      "metadata": {
        "colab": {
          "base_uri": "https://localhost:8080/"
        },
        "id": "62XnR-5-Dt9D",
        "outputId": "7ec1a06e-7e8d-4950-a866-a0786111f0d1"
      },
      "outputs": [
        {
          "output_type": "stream",
          "name": "stdout",
          "text": [
            "Looking in indexes: https://pypi.org/simple, https://us-python.pkg.dev/colab-wheels/public/simple/\n",
            "Collecting geopandas\n",
            "  Downloading geopandas-0.13.2-py3-none-any.whl (1.1 MB)\n",
            "\u001b[2K     \u001b[90m━━━━━━━━━━━━━━━━━━━━━━━━━━━━━━━━━━━━━━━━\u001b[0m \u001b[32m1.1/1.1 MB\u001b[0m \u001b[31m22.8 MB/s\u001b[0m eta \u001b[36m0:00:00\u001b[0m\n",
            "\u001b[?25hCollecting fiona>=1.8.19 (from geopandas)\n",
            "  Downloading Fiona-1.9.4.post1-cp310-cp310-manylinux_2_17_x86_64.manylinux2014_x86_64.whl (16.4 MB)\n",
            "\u001b[2K     \u001b[90m━━━━━━━━━━━━━━━━━━━━━━━━━━━━━━━━━━━━━━━━\u001b[0m \u001b[32m16.4/16.4 MB\u001b[0m \u001b[31m51.9 MB/s\u001b[0m eta \u001b[36m0:00:00\u001b[0m\n",
            "\u001b[?25hRequirement already satisfied: packaging in /usr/local/lib/python3.10/dist-packages (from geopandas) (23.1)\n",
            "Requirement already satisfied: pandas>=1.1.0 in /usr/local/lib/python3.10/dist-packages (from geopandas) (1.5.3)\n",
            "Collecting pyproj>=3.0.1 (from geopandas)\n",
            "  Downloading pyproj-3.6.0-cp310-cp310-manylinux_2_17_x86_64.manylinux2014_x86_64.whl (7.9 MB)\n",
            "\u001b[2K     \u001b[90m━━━━━━━━━━━━━━━━━━━━━━━━━━━━━━━━━━━━━━━━\u001b[0m \u001b[32m7.9/7.9 MB\u001b[0m \u001b[31m93.4 MB/s\u001b[0m eta \u001b[36m0:00:00\u001b[0m\n",
            "\u001b[?25hRequirement already satisfied: shapely>=1.7.1 in /usr/local/lib/python3.10/dist-packages (from geopandas) (2.0.1)\n",
            "Requirement already satisfied: attrs>=19.2.0 in /usr/local/lib/python3.10/dist-packages (from fiona>=1.8.19->geopandas) (23.1.0)\n",
            "Requirement already satisfied: certifi in /usr/local/lib/python3.10/dist-packages (from fiona>=1.8.19->geopandas) (2022.12.7)\n",
            "Requirement already satisfied: click~=8.0 in /usr/local/lib/python3.10/dist-packages (from fiona>=1.8.19->geopandas) (8.1.3)\n",
            "Collecting click-plugins>=1.0 (from fiona>=1.8.19->geopandas)\n",
            "  Downloading click_plugins-1.1.1-py2.py3-none-any.whl (7.5 kB)\n",
            "Collecting cligj>=0.5 (from fiona>=1.8.19->geopandas)\n",
            "  Downloading cligj-0.7.2-py3-none-any.whl (7.1 kB)\n",
            "Requirement already satisfied: six in /usr/local/lib/python3.10/dist-packages (from fiona>=1.8.19->geopandas) (1.16.0)\n",
            "Requirement already satisfied: python-dateutil>=2.8.1 in /usr/local/lib/python3.10/dist-packages (from pandas>=1.1.0->geopandas) (2.8.2)\n",
            "Requirement already satisfied: pytz>=2020.1 in /usr/local/lib/python3.10/dist-packages (from pandas>=1.1.0->geopandas) (2022.7.1)\n",
            "Requirement already satisfied: numpy>=1.21.0 in /usr/local/lib/python3.10/dist-packages (from pandas>=1.1.0->geopandas) (1.22.4)\n",
            "Installing collected packages: pyproj, cligj, click-plugins, fiona, geopandas\n",
            "Successfully installed click-plugins-1.1.1 cligj-0.7.2 fiona-1.9.4.post1 geopandas-0.13.2 pyproj-3.6.0\n"
          ]
        }
      ],
      "source": [
        "!pip install geopandas"
      ]
    },
    {
      "cell_type": "code",
      "source": [
        "import pandas as pd\n",
        "import numpy as np\n",
        "import geopandas as gpd\n",
        "import matplotlib.pyplot as plt\n",
        "from IPython.display import HTML\n",
        "\n",
        "plt.rcParams['figure.figsize'] = (10, 5)"
      ],
      "metadata": {
        "id": "iiG7fn2oD2n3"
      },
      "execution_count": 2,
      "outputs": []
    },
    {
      "cell_type": "code",
      "source": [
        "# Read in the neighborhoods geojson file\n",
        "neighborhoods = gpd.read_file('neighborhoods.geojson')\n",
        "\n",
        "# Get just the Urban Residents neighborhood polygon and save it as urban_polygon\n",
        "urban_polygon = neighborhoods.loc[neighborhoods.name == \"Urban Residents\"]"
      ],
      "metadata": {
        "id": "K_piL9naD8Ym"
      },
      "execution_count": 3,
      "outputs": []
    },
    {
      "cell_type": "code",
      "source": [
        "# Print the head of the urban polygon\n",
        "print(urban_polygon.head())\n",
        "\n",
        "# Create a copy of the urban_polygon using EPSG:3857 and print the head\n",
        "urban_poly_3857 = urban_polygon.to_crs(epsg=3857)\n",
        "print(urban_poly_3857.head())\n",
        "\n",
        "# Print the area of urban_poly_3857 in kilometers squared\n",
        "area = urban_poly_3857.geometry.area / 10**6\n",
        "print('The area of the Urban Residents neighborhood is ', area.values, ' km squared')"
      ],
      "metadata": {
        "colab": {
          "base_uri": "https://localhost:8080/"
        },
        "id": "JVcpDFiUEGMY",
        "outputId": "ed344e31-6004-42a8-f9ec-1be84a8b234d"
      },
      "execution_count": 4,
      "outputs": [
        {
          "output_type": "stream",
          "name": "stdout",
          "text": [
            "               name                                           geometry\n",
            "41  Urban Residents  MULTIPOLYGON (((-86.78122 36.16457, -86.78205 ...\n",
            "               name                                           geometry\n",
            "41  Urban Residents  MULTIPOLYGON (((-9660441.281 4323289.005, -966...\n",
            "The area of the Urban Residents neighborhood is  [1.12898961]  km squared\n"
          ]
        }
      ]
    },
    {
      "cell_type": "code",
      "source": [
        "# Create downtown_cernter from urban_poly_3857\n",
        "downtown_center = urban_poly_3857.geometry.centroid\n",
        "\n",
        "# Print the type of downtown_center\n",
        "print(type(downtown_center))\n",
        "\n",
        "# Plot the urban_poly_3857 as ax and add the center point\n",
        "ax = urban_poly_3857.plot(color='lightgreen', figsize=(7, 7));\n",
        "downtown_center.plot(ax=ax, color='black');\n",
        "plt.xticks(rotation=45);"
      ],
      "metadata": {
        "colab": {
          "base_uri": "https://localhost:8080/",
          "height": 694
        },
        "id": "kYDqbRFjEIvx",
        "outputId": "b4ad5635-d37f-4d0f-f271-74aebaf8f403"
      },
      "execution_count": 5,
      "outputs": [
        {
          "output_type": "stream",
          "name": "stdout",
          "text": [
            "<class 'geopandas.geoseries.GeoSeries'>\n"
          ]
        },
        {
          "output_type": "display_data",
          "data": {
            "text/plain": [
              "<Figure size 700x700 with 1 Axes>"
            ],
            "image/png": "[encoded data removed]"
          },
          "metadata": {}
        }
      ]
    },
    {
      "cell_type": "code",
      "source": [
        "from shapely.geometry import Point\n",
        "\n",
        "art = gpd.read_file('public_art.csv')\n",
        "art['geometry'] = art.apply(lambda x: Point(float(x.Longitude), float(x.Latitude)), axis=1)\n",
        "center_point = art.geometry.centroid"
      ],
      "metadata": {
        "id": "YH7RvpR7ELkM"
      },
      "execution_count": 7,
      "outputs": []
    },
    {
      "cell_type": "code",
      "source": [
        "from shapely.geometry import Point\n",
        "\n",
        "# Create art_dist_meters using art and the geometry from art\n",
        "art_dist_meters = gpd.GeoDataFrame(art, geometry=art.geometry)\n",
        "art_dist_meters.crs='epsg:4326'\n",
        "print(art_dist_meters.head(2))\n",
        "\n",
        "# Set the crs of art_dist_meters to use EPSG:3857\n",
        "art_dist_meters.geometry = art_dist_meters.geometry.to_crs(epsg=3857)\n",
        "print(art_dist_meters.head(2))\n",
        "\n",
        "# Add a column to art_meters, center\n",
        "art_dist_meters['center'] = center_point"
      ],
      "metadata": {
        "colab": {
          "base_uri": "https://localhost:8080/"
        },
        "id": "OFnCcyqbEVRe",
        "outputId": "a7c84d11-c4ff-4128-a3c5-66433e545b5e"
      },
      "execution_count": 8,
      "outputs": [
        {
          "output_type": "stream",
          "name": "stdout",
          "text": [
            "                             Title Last Name First Name  \\\n",
            "0          [Cross Country Runners]     Frost      Miley   \n",
            "1  [Fourth and Commerce Sculpture]    Walker        Lin   \n",
            "\n",
            "                            Location  Medium       Type Description  Latitude  \\\n",
            "0     4001 Harding Rd., Nashville TN  Bronze  Sculpture              36.12856   \n",
            "1  333 Commerce Street, Nashville TN          Sculpture              36.16234   \n",
            "\n",
            "   Longitude        Mapped Location                    geometry  \n",
            "0   -86.8366   (36.12856, -86.8366)  POINT (-86.83660 36.12856)  \n",
            "1  -86.77774  (36.16234, -86.77774)  POINT (-86.77774 36.16234)  \n",
            "                             Title Last Name First Name  \\\n",
            "0          [Cross Country Runners]     Frost      Miley   \n",
            "1  [Fourth and Commerce Sculpture]    Walker        Lin   \n",
            "\n",
            "                            Location  Medium       Type Description  Latitude  \\\n",
            "0     4001 Harding Rd., Nashville TN  Bronze  Sculpture              36.12856   \n",
            "1  333 Commerce Street, Nashville TN          Sculpture              36.16234   \n",
            "\n",
            "   Longitude        Mapped Location                          geometry  \n",
            "0   -86.8366   (36.12856, -86.8366)  POINT (-9666606.094 4318325.479)  \n",
            "1  -86.77774  (36.16234, -86.77774)  POINT (-9660053.829 4322982.159)  \n"
          ]
        }
      ]
    },
    {
      "cell_type": "code",
      "source": [
        "import pprint\n",
        "\n",
        "# Build a dictionary of titles and distances for Urban Residents art\n",
        "art_distances = {}\n",
        "for row in art_dist_meters.iterrows():\n",
        "    vals = row[1]\n",
        "    key = vals['Title']\n",
        "    ctr = vals['center']\n",
        "    art_distances[key] = vals['geometry'].distance(other=ctr)\n",
        "\n",
        "# Pretty print the art_distances\n",
        "pprint.pprint(art_distances)"
      ],
      "metadata": {
        "colab": {
          "base_uri": "https://localhost:8080/"
        },
        "id": "2_60pB4XEYJQ",
        "outputId": "e857145f-21bb-476e-86e0-e60890ae414b"
      },
      "execution_count": 9,
      "outputs": [
        {
          "output_type": "stream",
          "name": "stdout",
          "text": [
            "{'12th & Porter Mural': 10583948.500651473,\n",
            " 'A Splash of Color': 10585357.16017826,\n",
            " 'A Story of Nashville': 10583565.969078569,\n",
            " 'Aerial Innovations Mural': 10579929.255218184,\n",
            " 'Airport Sun Project': 10570311.412935875,\n",
            " 'Andrew Jackson': 10583951.468665037,\n",
            " 'Angel': 10588435.041707948,\n",
            " 'Anticipation': 10583698.952539692,\n",
            " 'April Baby': 10586916.00892881,\n",
            " 'Arial Triangle [from the Gravity Series]': 10583398.524837973,\n",
            " 'Ariel': 10585905.336208295,\n",
            " 'Athena Parthenos': 10586065.827814262,\n",
            " 'Benedictio': 10577769.979416678,\n",
            " 'Bicycle Bus-Green Fleet': 10582635.68286198,\n",
            " 'Blowing Bubbles': 10588435.041707948,\n",
            " 'Breaking Bread': 10582634.392548595,\n",
            " 'Building a Positive Community': 10582136.29114304,\n",
            " 'Can-Do': 10582120.049094511,\n",
            " 'Chet Atkins': 10583602.67968694,\n",
            " \"Children's Chairs For The Seasons\": 10583565.969078569,\n",
            " 'Confederate Memorial': 10577769.979416678,\n",
            " 'Confederate Private Monument': 10585868.029575413,\n",
            " 'Confluence': 10585513.082652403,\n",
            " 'Cool Fences': 10579074.346806614,\n",
            " 'Dancing on Air': 10570372.644642536,\n",
            " 'Demonbreun Hill Mural': 10583908.579902012,\n",
            " 'Dragon Wall Mural': 10584123.478874767,\n",
            " 'Eastside Mural': 10581245.290643545,\n",
            " 'Ed and Bernice Johnson and Mary': 10583193.594816655,\n",
            " 'Edward Ward Carmack': 10583921.539018078,\n",
            " 'Flights of Fantasy': 10570344.379658109,\n",
            " 'Foliated Scroll': 10583565.969078569,\n",
            " 'Founding Fathers Cenotaph': 10584221.716760147,\n",
            " 'Founding of Nashville': 10583078.144842813,\n",
            " 'Furman Monument': 10577769.979416678,\n",
            " 'Gold Star Monument to World War I Veterans': 10586021.85849977,\n",
            " 'Gone Fishing': 10583591.376403218,\n",
            " 'Happy Times at The Arcade': 10583544.984285295,\n",
            " 'Headstones': 10581464.612607876,\n",
            " 'Hillsboro Village Mural': 10583854.40571607,\n",
            " 'History in Stained Glass': 10584221.716760147,\n",
            " 'I BELIEVE IN NASHVILLE 12 South': 10582156.834978476,\n",
            " 'I BELIEVE IN NASHVILLE East Nashville': 10580136.449174412,\n",
            " 'I BELIEVE IN NASHVILLE North Nashville': 10585239.187925545,\n",
            " 'In Concert': 10572751.806064373,\n",
            " 'Industry - The TVA Group': 10584680.719262363,\n",
            " 'Industry, Agriculture, Commerce, Statesmanship': 10583520.14461468,\n",
            " 'Isabella': 10583485.955582885,\n",
            " 'Isabelle and Calvin': 10584967.506033441,\n",
            " 'John L. Nolen Monument': 10577769.979416678,\n",
            " 'John W. Thomas': 10586021.85849977,\n",
            " 'Johnny Cash Mural': 10582628.289268441,\n",
            " 'La Storia della Terra': 10583565.969078569,\n",
            " 'Lane Motor Museum': 10577496.17633061,\n",
            " 'Les Paul Guitar Mural': 10582854.565917103,\n",
            " 'Library Doors': 10583565.969078569,\n",
            " 'Lightning Wire Fountain': 10583073.144394962,\n",
            " 'M&M Furniture-Riverside Village': 10580110.247643126,\n",
            " 'Major General William Bate Monument': 10577769.979416678,\n",
            " 'Maybelle Carter': 10582681.289940419,\n",
            " 'Migration': 10578647.940171223,\n",
            " 'Music City Center - Art Collection': 10582899.568035366,\n",
            " 'Nashville, A History through Maps and Aerial Views': 10583565.969078569,\n",
            " 'Oh, Roy': 10583134.666506412,\n",
            " 'Orpheus and Eurydice': 10582814.322708014,\n",
            " 'Our Past, Your Future': 10581513.854999846,\n",
            " 'Owen Bradley': 10583977.664424112,\n",
            " 'Paint Waterfalls': 10586050.17255176,\n",
            " 'Parthenon East Pediment': 10586039.029226096,\n",
            " 'Parthenon West Pediment': 10586086.185064087,\n",
            " 'Phillips Monument': 10577769.979416678,\n",
            " 'Phillips Toy Mart': 10589122.922370559,\n",
            " 'Phoenix': 10583193.594816655,\n",
            " 'Piecing It All Together': 10583583.83412909,\n",
            " 'Pioneer Family - The Mountain Group': 10583940.557855405,\n",
            " 'Polarbears with Snowballs': 10582948.623516602,\n",
            " 'President Andrew Johnson': 10583888.306385722,\n",
            " 'Raccoons and the Magic Horseshoes': 10588449.304129984,\n",
            " 'Rolf and Daughters Mural': 10585530.548435526,\n",
            " 'Rolling Hills': 10567500.082015226,\n",
            " 'Rose on 65th Street': 10583485.955582885,\n",
            " 'Roy Orbison Tribute Statue': 10583983.278089467,\n",
            " 'Safe Haven Family Shelter Mural': 10580722.202142382,\n",
            " 'Sam Davis': 10587219.534638887,\n",
            " 'Sam Davis of Tennessee': 10583957.687431904,\n",
            " 'Samaritan': 10588435.041707948,\n",
            " 'Sea Serpent': 10584599.331890862,\n",
            " 'Sergeant Alvin C. York': 10583831.406240454,\n",
            " 'Servant or Master': 10583295.262231264,\n",
            " 'Sir Draco Star (a.k.a Eli)': 10581769.904107656,\n",
            " 'Soldier and Farmer - The Equestrian Group': 10583980.483601985,\n",
            " 'Something in the Air': 10583345.067374147,\n",
            " 'St. George and the Maiden': 10588435.041707948,\n",
            " 'St. Vincent de Paul': 10585450.35995012,\n",
            " 'Statue of Dr. W. E. B. Dubois': 10586151.741414448,\n",
            " 'Stay Tuned': 10582208.784466524,\n",
            " 'Teacher and Student': 10587219.534638887,\n",
            " \"Tennessee Confederate Women's Memorial\": 10583808.163062796,\n",
            " 'Tennessee Falls': 10583749.204294588,\n",
            " 'Tennessee Korean War Memorial': 10583763.398102596,\n",
            " \"Tennessee Vietnam Veteran's Memorial\": 10583793.462008132,\n",
            " 'Tennessee WWII Memorial': 10584791.513626093,\n",
            " 'The Birth of Apollo': 10582837.385831947,\n",
            " 'The Flutist': 10582802.090989307,\n",
            " 'The Peace Monument': 10581938.152564157,\n",
            " 'The Prince': 10583565.969078569,\n",
            " 'The Readers': 10583393.872061776,\n",
            " 'The Recording Angel': 10582755.631360933,\n",
            " 'The Three Graces': 10584019.73571512,\n",
            " 'The Waterfall Mural': 10581643.66630736,\n",
            " 'Thomas Gleen Ryman': 10583110.04814488,\n",
            " 'Threshold': 10582893.37870994,\n",
            " 'Timeless': 10582989.494809307,\n",
            " 'Timothy Demonbreun': 10583247.956294276,\n",
            " 'Tomatoes': 10579771.420321863,\n",
            " 'Tommy Owen': 10587219.534638887,\n",
            " 'Two Musicians': 10581245.290643545,\n",
            " 'Untitled': 10589663.659840992,\n",
            " 'Vanderbilt University - Public Collection': 10584709.70990316,\n",
            " 'Various': 10582656.329238292,\n",
            " 'Victory': 10583866.220337586,\n",
            " 'Voices Gathering': 10583459.815030094,\n",
            " 'Volume': 10581771.247803848,\n",
            " 'Warner Monument': 10577769.979416678,\n",
            " 'Waveform: Pan American Blues': 10570399.600396495,\n",
            " 'We Are Our Stories': 10587812.786960982,\n",
            " 'Welcome to Flatrock': 10574716.19476862,\n",
            " 'Wind Reeds': 10570407.991440944,\n",
            " 'Women Suffrage Memorial': 10583921.539018078,\n",
            " 'Youth Opportunity Center-STARS Nashville - Peace Jam mural': 10585108.655408468,\n",
            " '[Cross Country Runners]': 10587219.534638887,\n",
            " '[Fourth and Commerce Sculpture]': 10583138.736775193}\n"
          ]
        }
      ]
    },
    {
      "cell_type": "code",
      "source": [
        "urban_polygon.crs = 'epsg:4326'"
      ],
      "metadata": {
        "id": "LMoLdRuNEbOE"
      },
      "execution_count": 10,
      "outputs": []
    },
    {
      "cell_type": "code",
      "source": [
        "urban_polygon.crs"
      ],
      "metadata": {
        "colab": {
          "base_uri": "https://localhost:8080/"
        },
        "id": "rO_nQ2b1Ec2k",
        "outputId": "c95f0872-2493-4a57-909a-010a7b3fe5ba"
      },
      "execution_count": 11,
      "outputs": [
        {
          "output_type": "execute_result",
          "data": {
            "text/plain": [
              "<Geographic 2D CRS: EPSG:4326>\n",
              "Name: WGS 84\n",
              "Axis Info [ellipsoidal]:\n",
              "- Lat[north]: Geodetic latitude (degree)\n",
              "- Lon[east]: Geodetic longitude (degree)\n",
              "Area of Use:\n",
              "- name: World.\n",
              "- bounds: (-180.0, -90.0, 180.0, 90.0)\n",
              "Datum: World Geodetic System 1984 ensemble\n",
              "- Ellipsoid: WGS 84\n",
              "- Prime Meridian: Greenwich"
            ]
          },
          "metadata": {},
          "execution_count": 11
        }
      ]
    },
    {
      "cell_type": "code",
      "source": [
        "# Print the head of the urban_polygon\n",
        "print(urban_polygon.head())\n",
        "\n",
        "# Create urban_center from the urban_polygon center\n",
        "urban_center = urban_polygon.to_crs(epsg=4326).centroid\n",
        "\n",
        "# Print urban_center\n",
        "print(urban_center)\n",
        "\n",
        "# Create array for folium called urban_location\n",
        "urban_location = [urban_center.y, urban_center.x]\n",
        "\n",
        "# Print urban_location\n",
        "print(urban_location)"
      ],
      "metadata": {
        "colab": {
          "base_uri": "https://localhost:8080/"
        },
        "id": "Enl7le2XEgUv",
        "outputId": "a5b2779c-d7a9-4d2b-8844-83ea1193034d"
      },
      "execution_count": 12,
      "outputs": [
        {
          "output_type": "stream",
          "name": "stdout",
          "text": [
            "               name                                           geometry\n",
            "41  Urban Residents  MULTIPOLYGON (((-86.78122 36.16457, -86.78205 ...\n",
            "41    POINT (-86.77756 36.16128)\n",
            "dtype: geometry\n",
            "[41    36.161278\n",
            "dtype: float64, 41   -86.777565\n",
            "dtype: float64]\n"
          ]
        },
        {
          "output_type": "stream",
          "name": "stderr",
          "text": [
            "<ipython-input-12-da9aba9df734>:5: UserWarning: Geometry is in a geographic CRS. Results from 'centroid' are likely incorrect. Use 'GeoSeries.to_crs()' to re-project geometries to a projected CRS before this operation.\n",
            "\n",
            "  urban_center = urban_polygon.to_crs(epsg=4326).centroid\n"
          ]
        }
      ]
    },
    {
      "cell_type": "code",
      "source": [
        "import folium\n",
        "\n",
        "# Construct a folium map with urban_location\n",
        "downtown_map = folium.Map(location=urban_location, zoom_start=15, width=500, height=500)\n",
        "\n",
        "# Display the map\n",
        "downtown_map.save('downtown_map.html')\n",
        "\n",
        "downtown_map"
      ],
      "metadata": {
        "colab": {
          "base_uri": "https://localhost:8080/",
          "height": 915
        },
        "id": "9hawgkaJEjUz",
        "outputId": "d6944ce6-ef46-4555-c688-13e776395e14"
      },
      "execution_count": 14,
      "outputs": [
        {
          "output_type": "execute_result",
          "data": {
            "text/plain": [
              "<folium.folium.Map at 0x7fb44afff8e0>"
            ],
            "text/html": [
              "<div style=\"width:100%;\"><div style=\"position:relative;width:100%;height:0;padding-bottom:60%;\"><span style=\"color:#565656\">Make this Notebook Trusted to load map: File -> Trust Notebook</span><iframe srcdoc=\"&lt;!DOCTYPE html&gt;\n",
              "&lt;html&gt;\n",
              "&lt;head&gt;\n",
              "    \n",
              "    &lt;meta http-equiv=&quot;content-type&quot; content=&quot;text/html; charset=UTF-8&quot; /&gt;\n",
              "    \n",
              "        &lt;script&gt;\n",
              "            L_NO_TOUCH = false;\n",
              "            L_DISABLE_3D = false;\n",
              "        &lt;/script&gt;\n",
              "    \n",
              "    &lt;style&gt;html, body {width: 100%;height: 100%;margin: 0;padding: 0;}&lt;/style&gt;\n",
              "    &lt;style&gt;#map {position:absolute;top:0;bottom:0;right:0;left:0;}&lt;/style&gt;\n",
              "    &lt;script src=&quot;https://cdn.jsdelivr.net/npm/leaflet@1.9.3/dist/leaflet.js&quot;&gt;&lt;/script&gt;\n",
              "    &lt;script src=&quot;https://code.jquery.com/jquery-1.12.4.min.js&quot;&gt;&lt;/script&gt;\n",
              "    &lt;script src=&quot;https://cdn.jsdelivr.net/npm/bootstrap@5.2.2/dist/js/bootstrap.bundle.min.js&quot;&gt;&lt;/script&gt;\n",
              "    &lt;script src=&quot;https://cdnjs.cloudflare.com/ajax/libs/Leaflet.awesome-markers/2.0.2/leaflet.awesome-markers.js&quot;&gt;&lt;/script&gt;\n",
              "    &lt;link rel=&quot;stylesheet&quot; href=&quot;https://cdn.jsdelivr.net/npm/leaflet@1.9.3/dist/leaflet.css&quot;/&gt;\n",
              "    &lt;link rel=&quot;stylesheet&quot; href=&quot;https://cdn.jsdelivr.net/npm/bootstrap@5.2.2/dist/css/bootstrap.min.css&quot;/&gt;\n",
              "    &lt;link rel=&quot;stylesheet&quot; href=&quot;https://netdna.bootstrapcdn.com/bootstrap/3.0.0/css/bootstrap.min.css&quot;/&gt;\n",
              "    &lt;link rel=&quot;stylesheet&quot; href=&quot;https://cdn.jsdelivr.net/npm/@fortawesome/fontawesome-free@6.2.0/css/all.min.css&quot;/&gt;\n",
              "    &lt;link rel=&quot;stylesheet&quot; href=&quot;https://cdnjs.cloudflare.com/ajax/libs/Leaflet.awesome-markers/2.0.2/leaflet.awesome-markers.css&quot;/&gt;\n",
              "    &lt;link rel=&quot;stylesheet&quot; href=&quot;https://cdn.jsdelivr.net/gh/python-visualization/folium/folium/templates/leaflet.awesome.rotate.min.css&quot;/&gt;\n",
              "    \n",
              "            &lt;meta name=&quot;viewport&quot; content=&quot;width=device-width,\n",
              "                initial-scale=1.0, maximum-scale=1.0, user-scalable=no&quot; /&gt;\n",
              "            &lt;style&gt;\n",
              "                #map_e303768f471f1d1ffde390481565431c {\n",
              "                    position: relative;\n",
              "                    width: 500.0px;\n",
              "                    height: 500.0px;\n",
              "                    left: 0.0%;\n",
              "                    top: 0.0%;\n",
              "                }\n",
              "                .leaflet-container { font-size: 1rem; }\n",
              "            &lt;/style&gt;\n",
              "        \n",
              "&lt;/head&gt;\n",
              "&lt;body&gt;\n",
              "    \n",
              "    \n",
              "            &lt;div class=&quot;folium-map&quot; id=&quot;map_e303768f471f1d1ffde390481565431c&quot; &gt;&lt;/div&gt;\n",
              "        \n",
              "&lt;/body&gt;\n",
              "&lt;script&gt;\n",
              "    \n",
              "    \n",
              "            var map_e303768f471f1d1ffde390481565431c = L.map(\n",
              "                &quot;map_e303768f471f1d1ffde390481565431c&quot;,\n",
              "                {\n",
              "                    center: [36.161278209287914, -86.77756457127047],\n",
              "                    crs: L.CRS.EPSG3857,\n",
              "                    zoom: 15,\n",
              "                    zoomControl: true,\n",
              "                    preferCanvas: false,\n",
              "                }\n",
              "            );\n",
              "\n",
              "            \n",
              "\n",
              "        \n",
              "    \n",
              "            var tile_layer_392f304ee4811de1b4e1d70e0636ba7a = L.tileLayer(\n",
              "                &quot;https://{s}.tile.openstreetmap.org/{z}/{x}/{y}.png&quot;,\n",
              "                {&quot;attribution&quot;: &quot;Data by \\u0026copy; \\u003ca target=\\&quot;_blank\\&quot; href=\\&quot;http://openstreetmap.org\\&quot;\\u003eOpenStreetMap\\u003c/a\\u003e, under \\u003ca target=\\&quot;_blank\\&quot; href=\\&quot;http://www.openstreetmap.org/copyright\\&quot;\\u003eODbL\\u003c/a\\u003e.&quot;, &quot;detectRetina&quot;: false, &quot;maxNativeZoom&quot;: 18, &quot;maxZoom&quot;: 18, &quot;minZoom&quot;: 0, &quot;noWrap&quot;: false, &quot;opacity&quot;: 1, &quot;subdomains&quot;: &quot;abc&quot;, &quot;tms&quot;: false}\n",
              "            ).addTo(map_e303768f471f1d1ffde390481565431c);\n",
              "        \n",
              "&lt;/script&gt;\n",
              "&lt;/html&gt;\" style=\"position:absolute;width:100%;height:100%;left:0;top:0;border:none !important;\" allowfullscreen webkitallowfullscreen mozallowfullscreen></iframe></div></div>"
            ]
          },
          "metadata": {},
          "execution_count": 14
        }
      ]
    }
  ]
}